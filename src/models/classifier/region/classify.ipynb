{
 "cells": [
  {
   "cell_type": "code",
   "execution_count": 10,
   "metadata": {},
   "outputs": [
    {
     "name": "stdout",
     "output_type": "stream",
     "text": [
      "The autoreload extension is already loaded. To reload it, use:\n",
      "  %reload_ext autoreload\n"
     ]
    },
    {
     "data": {
      "text/html": [
       "<div>\n",
       "<style scoped>\n",
       "    .dataframe tbody tr th:only-of-type {\n",
       "        vertical-align: middle;\n",
       "    }\n",
       "\n",
       "    .dataframe tbody tr th {\n",
       "        vertical-align: top;\n",
       "    }\n",
       "\n",
       "    .dataframe thead th {\n",
       "        text-align: right;\n",
       "    }\n",
       "</style>\n",
       "<table border=\"1\" class=\"dataframe\">\n",
       "  <thead>\n",
       "    <tr style=\"text-align: right;\">\n",
       "      <th></th>\n",
       "      <th>x1</th>\n",
       "      <th>y1</th>\n",
       "      <th>x2</th>\n",
       "      <th>y2</th>\n",
       "    </tr>\n",
       "  </thead>\n",
       "  <tbody>\n",
       "    <tr>\n",
       "      <th>count</th>\n",
       "      <td>576725.000000</td>\n",
       "      <td>576725.000000</td>\n",
       "      <td>576725.000000</td>\n",
       "      <td>576725.000000</td>\n",
       "    </tr>\n",
       "    <tr>\n",
       "      <th>mean</th>\n",
       "      <td>313.473772</td>\n",
       "      <td>235.853766</td>\n",
       "      <td>643.174421</td>\n",
       "      <td>269.403057</td>\n",
       "    </tr>\n",
       "    <tr>\n",
       "      <th>std</th>\n",
       "      <td>100.869453</td>\n",
       "      <td>137.728287</td>\n",
       "      <td>147.568550</td>\n",
       "      <td>137.608661</td>\n",
       "    </tr>\n",
       "    <tr>\n",
       "      <th>min</th>\n",
       "      <td>0.000000</td>\n",
       "      <td>0.000000</td>\n",
       "      <td>26.000000</td>\n",
       "      <td>13.000000</td>\n",
       "    </tr>\n",
       "    <tr>\n",
       "      <th>25%</th>\n",
       "      <td>240.000000</td>\n",
       "      <td>119.000000</td>\n",
       "      <td>586.000000</td>\n",
       "      <td>162.000000</td>\n",
       "    </tr>\n",
       "    <tr>\n",
       "      <th>50%</th>\n",
       "      <td>280.000000</td>\n",
       "      <td>253.000000</td>\n",
       "      <td>693.000000</td>\n",
       "      <td>281.000000</td>\n",
       "    </tr>\n",
       "    <tr>\n",
       "      <th>75%</th>\n",
       "      <td>360.000000</td>\n",
       "      <td>347.000000</td>\n",
       "      <td>760.000000</td>\n",
       "      <td>386.000000</td>\n",
       "    </tr>\n",
       "    <tr>\n",
       "      <th>max</th>\n",
       "      <td>760.000000</td>\n",
       "      <td>489.000000</td>\n",
       "      <td>799.000000</td>\n",
       "      <td>499.000000</td>\n",
       "    </tr>\n",
       "  </tbody>\n",
       "</table>\n",
       "</div>"
      ],
      "text/plain": [
       "                  x1             y1             x2             y2\n",
       "count  576725.000000  576725.000000  576725.000000  576725.000000\n",
       "mean      313.473772     235.853766     643.174421     269.403057\n",
       "std       100.869453     137.728287     147.568550     137.608661\n",
       "min         0.000000       0.000000      26.000000      13.000000\n",
       "25%       240.000000     119.000000     586.000000     162.000000\n",
       "50%       280.000000     253.000000     693.000000     281.000000\n",
       "75%       360.000000     347.000000     760.000000     386.000000\n",
       "max       760.000000     489.000000     799.000000     499.000000"
      ]
     },
     "execution_count": 10,
     "metadata": {},
     "output_type": "execute_result"
    }
   ],
   "source": [
    "%load_ext autoreload\n",
    "%autoreload 2\n",
    "\n",
    "import os\n",
    "\n",
    "import pandas as pd\n",
    "from xgboost import XGBClassifier\n",
    "from sklearn.model_selection import train_test_split\n",
    "from sklearn.metrics import accuracy_score\n",
    "\n",
    "DATA_DIR = '/home/ducna/share/Data/classifier/'\n",
    "\n",
    "df = pd.read_csv(os.path.join(DATA_DIR, 'region.csv'))\n",
    "df.describe()"
   ]
  },
  {
   "cell_type": "code",
   "execution_count": 11,
   "metadata": {},
   "outputs": [],
   "source": [
    "X = df[['x1', 'y1', 'x2', 'y2']]\n",
    "y = df['class']"
   ]
  },
  {
   "cell_type": "code",
   "execution_count": 13,
   "metadata": {},
   "outputs": [],
   "source": [
    "X_train, X_test, y_train, y_test = train_test_split(X, y, test_size=0.2)"
   ]
  },
  {
   "cell_type": "code",
   "execution_count": 14,
   "metadata": {},
   "outputs": [
    {
     "name": "stdout",
     "output_type": "stream",
     "text": [
      "Train length: 461380\n",
      "Test length 115345\n"
     ]
    }
   ],
   "source": [
    "print('Train length:', len(X_train))\n",
    "print('Test length', len(X_test))"
   ]
  },
  {
   "cell_type": "markdown",
   "metadata": {},
   "source": [
    "Grid search to find best parameters"
   ]
  },
  {
   "cell_type": "code",
   "execution_count": 15,
   "metadata": {
    "scrolled": true
   },
   "outputs": [
    {
     "name": "stdout",
     "output_type": "stream",
     "text": [
      "Fitting 5 folds for each of 36 candidates, totalling 180 fits\n",
      "[CV] learning_rate=0.01, max_depth=2, n_estimators=50 ................\n",
      "[CV] learning_rate=0.01, max_depth=2, n_estimators=50 ................\n",
      "[CV] learning_rate=0.01, max_depth=2, n_estimators=50 ................\n",
      "[CV] learning_rate=0.01, max_depth=2, n_estimators=50 ................\n",
      "[CV] learning_rate=0.01, max_depth=2, n_estimators=50 ................\n",
      "[CV] learning_rate=0.01, max_depth=2, n_estimators=100 ...............\n",
      "[CV] learning_rate=0.01, max_depth=2, n_estimators=100 ...............\n",
      "[CV] learning_rate=0.01, max_depth=2, n_estimators=100 ...............\n",
      "[CV] learning_rate=0.01, max_depth=2, n_estimators=100 ...............\n",
      "[CV] learning_rate=0.01, max_depth=2, n_estimators=150 ...............\n",
      "[CV] learning_rate=0.01, max_depth=2, n_estimators=100 ...............\n",
      "[CV] learning_rate=0.01, max_depth=2, n_estimators=150 ...............\n",
      "[CV] learning_rate=0.01, max_depth=2, n_estimators=150 ...............\n",
      "[CV] learning_rate=0.01, max_depth=2, n_estimators=150 ...............\n",
      "[CV] learning_rate=0.01, max_depth=2, n_estimators=150 ...............\n",
      "[CV] learning_rate=0.01, max_depth=4, n_estimators=50 ................\n",
      "[CV] learning_rate=0.01, max_depth=4, n_estimators=50 ................\n",
      "[CV] learning_rate=0.01, max_depth=4, n_estimators=50 ................\n",
      "[CV] learning_rate=0.01, max_depth=4, n_estimators=50 ................\n",
      "[CV] learning_rate=0.01, max_depth=4, n_estimators=50 ................\n",
      "[CV] learning_rate=0.01, max_depth=4, n_estimators=100 ...............\n",
      "[CV] learning_rate=0.01, max_depth=4, n_estimators=100 ...............\n",
      "[CV] learning_rate=0.01, max_depth=4, n_estimators=100 ...............\n",
      "[CV] learning_rate=0.01, max_depth=4, n_estimators=100 ...............\n",
      "[CV] learning_rate=0.01, max_depth=4, n_estimators=100 ...............\n",
      "[CV] learning_rate=0.01, max_depth=4, n_estimators=150 ...............\n",
      "[CV] learning_rate=0.01, max_depth=4, n_estimators=150 ...............\n",
      "[CV] learning_rate=0.01, max_depth=4, n_estimators=150 ...............\n",
      "[CV] learning_rate=0.01, max_depth=4, n_estimators=150 ...............\n",
      "[CV] learning_rate=0.01, max_depth=4, n_estimators=150 ...............\n",
      "[CV] learning_rate=0.01, max_depth=6, n_estimators=50 ................\n",
      "[CV] learning_rate=0.01, max_depth=6, n_estimators=50 ................\n",
      "[CV] learning_rate=0.01, max_depth=6, n_estimators=50 ................\n",
      "[CV] learning_rate=0.01, max_depth=6, n_estimators=50 ................\n",
      "[CV] learning_rate=0.01, max_depth=6, n_estimators=50 ................\n",
      "[CV] learning_rate=0.01, max_depth=6, n_estimators=100 ...............\n",
      "[CV] learning_rate=0.01, max_depth=6, n_estimators=100 ...............\n",
      "[CV] learning_rate=0.01, max_depth=6, n_estimators=100 ...............\n",
      "[CV] learning_rate=0.01, max_depth=6, n_estimators=100 ...............\n",
      "[CV] learning_rate=0.01, max_depth=6, n_estimators=100 ...............\n",
      "[CV] learning_rate=0.01, max_depth=6, n_estimators=150 ...............\n",
      "[CV] learning_rate=0.01, max_depth=6, n_estimators=150 ...............\n",
      "[CV] learning_rate=0.01, max_depth=6, n_estimators=150 ...............\n",
      "[CV] learning_rate=0.01, max_depth=6, n_estimators=150 ...............\n",
      "[CV]  learning_rate=0.01, max_depth=4, n_estimators=50, score=-1.0285625414354707, total=  54.0s\n",
      "[CV] learning_rate=0.01, max_depth=6, n_estimators=150 ...............\n",
      "[CV]  learning_rate=0.01, max_depth=4, n_estimators=50, score=-1.0282301811230539, total=  55.3s\n",
      "[CV] learning_rate=0.01, max_depth=8, n_estimators=50 ................\n",
      "[CV]  learning_rate=0.01, max_depth=2, n_estimators=100, score=-0.7975012830342146, total= 1.1min\n",
      "[CV] learning_rate=0.01, max_depth=8, n_estimators=50 ................\n",
      "[CV]  learning_rate=0.01, max_depth=2, n_estimators=150, score=-0.5691739421787326, total= 1.6min\n",
      "[CV] learning_rate=0.01, max_depth=8, n_estimators=50 ................\n",
      "[CV]  learning_rate=0.01, max_depth=2, n_estimators=150, score=-0.5691497290222792, total= 1.6min\n",
      "[CV] learning_rate=0.01, max_depth=8, n_estimators=50 ................\n",
      "[CV]  learning_rate=0.01, max_depth=2, n_estimators=150, score=-0.5698273404331328, total= 1.6min\n",
      "[CV] learning_rate=0.01, max_depth=8, n_estimators=50 ................\n",
      "[CV]  learning_rate=0.01, max_depth=2, n_estimators=150, score=-0.5693823092014724, total= 1.7min\n",
      "[CV] learning_rate=0.01, max_depth=8, n_estimators=100 ...............\n",
      "[CV]  learning_rate=0.01, max_depth=4, n_estimators=100, score=-0.6293936480336266, total= 1.8min\n",
      "[CV] learning_rate=0.01, max_depth=8, n_estimators=100 ...............\n",
      "[CV]  learning_rate=0.01, max_depth=4, n_estimators=100, score=-0.6293302738231698, total= 1.8min\n",
      "[CV] learning_rate=0.01, max_depth=8, n_estimators=100 ...............\n",
      "[CV]  learning_rate=0.01, max_depth=2, n_estimators=50, score=-1.165569372565419, total= 2.0min\n",
      "[CV] learning_rate=0.01, max_depth=8, n_estimators=100 ...............\n",
      "[CV]  learning_rate=0.01, max_depth=2, n_estimators=50, score=-1.1653077607308422, total= 2.0min\n",
      "[CV] learning_rate=0.01, max_depth=8, n_estimators=100 ...............\n",
      "[CV]  learning_rate=0.01, max_depth=2, n_estimators=50, score=-1.1656603315718894, total= 2.1min\n",
      "[CV] learning_rate=0.01, max_depth=8, n_estimators=150 ...............\n",
      "[CV]  learning_rate=0.01, max_depth=2, n_estimators=50, score=-1.165572282421245, total= 2.1min\n",
      "[CV]  learning_rate=0.01, max_depth=2, n_estimators=50, score=-1.1653919802645638, total= 2.1min\n",
      "[CV] learning_rate=0.01, max_depth=8, n_estimators=150 ...............\n",
      "[CV] learning_rate=0.01, max_depth=8, n_estimators=150 ...............\n",
      "[CV]  learning_rate=0.01, max_depth=8, n_estimators=50, score=-0.9907710880713531, total= 1.7min\n",
      "[CV] learning_rate=0.01, max_depth=8, n_estimators=150 ...............\n",
      "[CV]  learning_rate=0.01, max_depth=8, n_estimators=50, score=-0.9911866507394517, total= 1.6min\n",
      "[CV] learning_rate=0.01, max_depth=8, n_estimators=150 ...............\n",
      "[CV]  learning_rate=0.01, max_depth=8, n_estimators=50, score=-0.9907515632044073, total= 1.7min\n",
      "[CV] learning_rate=0.1, max_depth=2, n_estimators=50 .................\n",
      "[CV]  learning_rate=0.01, max_depth=8, n_estimators=50, score=-0.9909290346608742, total= 1.7min\n",
      "[CV] learning_rate=0.1, max_depth=2, n_estimators=50 .................\n",
      "[CV]  learning_rate=0.01, max_depth=8, n_estimators=50, score=-0.9913895726210378, total= 1.7min\n",
      "[CV] learning_rate=0.1, max_depth=2, n_estimators=50 .................\n",
      "[CV]  learning_rate=0.01, max_depth=4, n_estimators=50, score=-1.028387175647373, total= 4.1min\n",
      "[CV] learning_rate=0.1, max_depth=2, n_estimators=50 .................\n",
      "[CV]  learning_rate=0.01, max_depth=4, n_estimators=50, score=-1.0286185727439683, total= 4.2min\n",
      "[CV] learning_rate=0.1, max_depth=2, n_estimators=50 .................\n",
      "[CV]  learning_rate=0.01, max_depth=4, n_estimators=50, score=-1.028893093601589, total= 4.2min\n",
      "[CV] learning_rate=0.1, max_depth=2, n_estimators=100 ................\n",
      "[CV]  learning_rate=0.1, max_depth=2, n_estimators=50, score=-0.13690285165365562, total=  34.6s\n",
      "[CV] learning_rate=0.1, max_depth=2, n_estimators=100 ................\n",
      "[CV]  learning_rate=0.1, max_depth=2, n_estimators=50, score=-0.1366285320043825, total=  33.3s\n",
      "[CV] learning_rate=0.1, max_depth=2, n_estimators=100 ................\n",
      "[CV]  learning_rate=0.01, max_depth=2, n_estimators=100, score=-0.7969728309152382, total= 4.2min\n",
      "[CV] learning_rate=0.1, max_depth=2, n_estimators=100 ................\n",
      "[CV]  learning_rate=0.01, max_depth=2, n_estimators=100, score=-0.7967566698405272, total= 4.2min\n",
      "[CV] learning_rate=0.1, max_depth=2, n_estimators=100 ................\n",
      "[CV]  learning_rate=0.01, max_depth=2, n_estimators=100, score=-0.7969326581233898, total= 4.2min\n",
      "[CV] learning_rate=0.1, max_depth=2, n_estimators=150 ................\n",
      "[CV]  learning_rate=0.01, max_depth=2, n_estimators=100, score=-0.7968245440707172, total= 4.2min\n",
      "[CV] learning_rate=0.1, max_depth=2, n_estimators=150 ................\n",
      "[CV]  learning_rate=0.1, max_depth=2, n_estimators=50, score=-0.13711457661432763, total=  36.1s\n",
      "[CV] learning_rate=0.1, max_depth=2, n_estimators=150 ................\n",
      "[CV]  learning_rate=0.01, max_depth=6, n_estimators=150, score=-0.37770190118460456, total= 3.9min\n",
      "[CV] learning_rate=0.1, max_depth=2, n_estimators=150 ................\n"
     ]
    },
    {
     "name": "stdout",
     "output_type": "stream",
     "text": [
      "[CV]  learning_rate=0.01, max_depth=8, n_estimators=100, score=-0.5864557328940435, total= 3.4min\n",
      "[CV] learning_rate=0.1, max_depth=2, n_estimators=150 ................\n",
      "[CV]  learning_rate=0.1, max_depth=2, n_estimators=100, score=-0.07050101493577444, total= 1.1min\n",
      "[CV] learning_rate=0.1, max_depth=4, n_estimators=50 .................\n",
      "[CV]  learning_rate=0.1, max_depth=2, n_estimators=100, score=-0.07164842845413717, total= 1.1min\n",
      "[CV] learning_rate=0.1, max_depth=4, n_estimators=50 .................\n",
      "[CV]  learning_rate=0.01, max_depth=8, n_estimators=100, score=-0.5866401495764869, total= 3.4min\n",
      "[CV] learning_rate=0.1, max_depth=4, n_estimators=50 .................\n",
      "[CV]  learning_rate=0.01, max_depth=8, n_estimators=100, score=-0.5858786115585335, total= 3.4min\n",
      "[CV] learning_rate=0.1, max_depth=4, n_estimators=50 .................\n",
      "[CV]  learning_rate=0.1, max_depth=2, n_estimators=150, score=-0.058111286304425774, total= 1.5min\n",
      "[CV] learning_rate=0.1, max_depth=4, n_estimators=50 .................\n",
      "[CV]  learning_rate=0.01, max_depth=6, n_estimators=50, score=-0.9998031131465076, total= 6.3min\n",
      "[CV] learning_rate=0.1, max_depth=4, n_estimators=100 ................\n",
      "[CV]  learning_rate=0.01, max_depth=6, n_estimators=50, score=-0.9996834115776755, total= 6.3min\n",
      "[CV] learning_rate=0.1, max_depth=4, n_estimators=100 ................\n",
      "[CV]  learning_rate=0.1, max_depth=2, n_estimators=50, score=-0.13629263371803585, total= 2.1min\n",
      "[CV] learning_rate=0.1, max_depth=4, n_estimators=100 ................\n",
      "[CV]  learning_rate=0.01, max_depth=6, n_estimators=50, score=-0.9999677681097643, total= 6.3min\n",
      "[CV] learning_rate=0.1, max_depth=4, n_estimators=100 ................\n"
     ]
    },
    {
     "name": "stderr",
     "output_type": "stream",
     "text": [
      "[Parallel(n_jobs=44)]: Done  40 tasks      | elapsed:  6.6min\n"
     ]
    },
    {
     "name": "stdout",
     "output_type": "stream",
     "text": [
      "[CV]  learning_rate=0.01, max_depth=6, n_estimators=50, score=-1.0003128762856377, total= 6.4min\n",
      "[CV] learning_rate=0.1, max_depth=4, n_estimators=100 ................\n",
      "[CV]  learning_rate=0.01, max_depth=6, n_estimators=50, score=-0.9999987184458761, total= 6.4min\n",
      "[CV] learning_rate=0.1, max_depth=4, n_estimators=150 ................\n",
      "[CV]  learning_rate=0.1, max_depth=4, n_estimators=50, score=-0.0705687887857532, total=  52.9s\n",
      "[CV] learning_rate=0.1, max_depth=4, n_estimators=150 ................\n",
      "[CV]  learning_rate=0.1, max_depth=4, n_estimators=50, score=-0.07041403965178114, total=  53.8s\n",
      "[CV] learning_rate=0.1, max_depth=4, n_estimators=150 ................\n",
      "[CV]  learning_rate=0.1, max_depth=2, n_estimators=50, score=-0.13739551762268418, total= 2.2min\n",
      "[CV] learning_rate=0.1, max_depth=4, n_estimators=150 ................\n",
      "[CV]  learning_rate=0.1, max_depth=4, n_estimators=50, score=-0.0714974460886313, total=  52.6s\n",
      "[CV] learning_rate=0.1, max_depth=4, n_estimators=150 ................\n",
      "[CV]  learning_rate=0.1, max_depth=4, n_estimators=50, score=-0.06977364356995987, total=  53.8s\n",
      "[CV] learning_rate=0.1, max_depth=6, n_estimators=50 .................\n",
      "[CV]  learning_rate=0.01, max_depth=2, n_estimators=150, score=-0.5693031491527203, total= 6.4min\n",
      "[CV] learning_rate=0.1, max_depth=6, n_estimators=50 .................\n",
      "[CV]  learning_rate=0.1, max_depth=2, n_estimators=150, score=-0.05650053980154115, total= 1.5min\n",
      "[CV] learning_rate=0.1, max_depth=6, n_estimators=50 .................\n",
      "[CV]  learning_rate=0.1, max_depth=4, n_estimators=50, score=-0.07182176847755772, total=  53.7s\n",
      "[CV] learning_rate=0.1, max_depth=6, n_estimators=50 .................\n",
      "[CV]  learning_rate=0.1, max_depth=2, n_estimators=150, score=-0.058507406881771064, total= 1.5min\n",
      "[CV] learning_rate=0.1, max_depth=6, n_estimators=50 .................\n",
      "[CV]  learning_rate=0.1, max_depth=6, n_estimators=50, score=-0.05638774950709753, total= 1.2min\n",
      "[CV] learning_rate=0.1, max_depth=6, n_estimators=100 ................\n",
      "[CV]  learning_rate=0.01, max_depth=4, n_estimators=100, score=-0.6280573563349774, total= 7.9min\n",
      "[CV] learning_rate=0.1, max_depth=6, n_estimators=100 ................\n",
      "[CV]  learning_rate=0.01, max_depth=8, n_estimators=150, score=-0.36438041642018526, total= 4.9min\n",
      "[CV] learning_rate=0.1, max_depth=6, n_estimators=100 ................\n",
      "[CV]  learning_rate=0.01, max_depth=4, n_estimators=100, score=-0.6296562171247724, total= 8.0min\n",
      "[CV] learning_rate=0.1, max_depth=6, n_estimators=100 ................\n",
      "[CV]  learning_rate=0.01, max_depth=8, n_estimators=150, score=-0.3657586539714226, total= 4.8min\n",
      "[CV] learning_rate=0.1, max_depth=6, n_estimators=100 ................\n",
      "[CV]  learning_rate=0.1, max_depth=6, n_estimators=50, score=-0.05740569907815503, total= 1.2min\n",
      "[CV] learning_rate=0.1, max_depth=6, n_estimators=150 ................\n",
      "[CV]  learning_rate=0.01, max_depth=4, n_estimators=100, score=-0.6294533321990203, total= 8.2min\n",
      "[CV] learning_rate=0.1, max_depth=6, n_estimators=150 ................\n",
      "[CV]  learning_rate=0.1, max_depth=6, n_estimators=50, score=-0.05540301550527848, total= 1.2min\n",
      "[CV] learning_rate=0.1, max_depth=6, n_estimators=150 ................\n",
      "[CV]  learning_rate=0.1, max_depth=6, n_estimators=50, score=-0.058038385999832694, total= 1.2min\n",
      "[CV] learning_rate=0.1, max_depth=6, n_estimators=150 ................\n",
      "[CV]  learning_rate=0.1, max_depth=2, n_estimators=100, score=-0.07195453307133592, total= 4.3min\n",
      "[CV] learning_rate=0.1, max_depth=6, n_estimators=150 ................\n",
      "[CV]  learning_rate=0.1, max_depth=2, n_estimators=100, score=-0.07070480326918595, total= 4.4min\n",
      "[CV] learning_rate=0.1, max_depth=8, n_estimators=50 .................\n",
      "[CV]  learning_rate=0.1, max_depth=2, n_estimators=100, score=-0.07023835910899191, total= 4.4min\n",
      "[CV] learning_rate=0.1, max_depth=8, n_estimators=50 .................\n",
      "[CV]  learning_rate=0.1, max_depth=4, n_estimators=150, score=-0.042708321642778616, total= 2.5min\n",
      "[CV] learning_rate=0.1, max_depth=8, n_estimators=50 .................\n",
      "[CV]  learning_rate=0.1, max_depth=4, n_estimators=150, score=-0.044205067812881936, total= 2.5min\n",
      "[CV] learning_rate=0.1, max_depth=8, n_estimators=50 .................\n",
      "[CV]  learning_rate=0.1, max_depth=4, n_estimators=150, score=-0.04475170309158869, total= 2.6min\n",
      "[CV] learning_rate=0.1, max_depth=8, n_estimators=50 .................\n",
      "[CV]  learning_rate=0.1, max_depth=6, n_estimators=100, score=-0.04041519957545169, total= 2.4min\n",
      "[CV] learning_rate=0.1, max_depth=8, n_estimators=100 ................\n",
      "[CV]  learning_rate=0.1, max_depth=6, n_estimators=100, score=-0.041515569525745484, total= 2.5min\n",
      "[CV] learning_rate=0.1, max_depth=8, n_estimators=100 ................\n",
      "[CV]  learning_rate=0.1, max_depth=6, n_estimators=100, score=-0.04266607235737116, total= 2.4min\n",
      "[CV] learning_rate=0.1, max_depth=8, n_estimators=100 ................\n",
      "[CV]  learning_rate=0.1, max_depth=8, n_estimators=50, score=-0.051486847313008045, total= 1.6min\n",
      "[CV] learning_rate=0.1, max_depth=8, n_estimators=100 ................\n",
      "[CV]  learning_rate=0.1, max_depth=2, n_estimators=150, score=-0.057048076673532164, total= 6.5min\n",
      "[CV] learning_rate=0.1, max_depth=8, n_estimators=100 ................\n",
      "[CV]  learning_rate=0.1, max_depth=8, n_estimators=50, score=-0.05023395546883785, total= 1.6min\n",
      "[CV] learning_rate=0.1, max_depth=8, n_estimators=150 ................\n",
      "[CV]  learning_rate=0.1, max_depth=2, n_estimators=150, score=-0.05680060224255939, total= 6.4min\n",
      "[CV] learning_rate=0.1, max_depth=8, n_estimators=150 ................\n",
      "[CV]  learning_rate=0.1, max_depth=8, n_estimators=50, score=-0.052885651642024904, total= 1.6min\n",
      "[CV] learning_rate=0.1, max_depth=8, n_estimators=150 ................\n",
      "[CV]  learning_rate=0.1, max_depth=6, n_estimators=150, score=-0.03843041737881836, total= 3.7min\n",
      "[CV] learning_rate=0.1, max_depth=8, n_estimators=150 ................\n",
      "[CV]  learning_rate=0.01, max_depth=6, n_estimators=100, score=-0.5991557180189069, total=12.2min\n",
      "[CV] learning_rate=0.1, max_depth=8, n_estimators=150 ................\n",
      "[CV]  learning_rate=0.01, max_depth=4, n_estimators=150, score=-0.40859572469153327, total=12.1min\n",
      "[CV] learning_rate=0.2, max_depth=2, n_estimators=50 .................\n",
      "[CV]  learning_rate=0.1, max_depth=6, n_estimators=150, score=-0.0396061811580376, total= 3.6min\n",
      "[CV] learning_rate=0.2, max_depth=2, n_estimators=50 .................\n",
      "[CV]  learning_rate=0.01, max_depth=6, n_estimators=100, score=-0.5986733037390054, total=12.4min\n",
      "[CV] learning_rate=0.2, max_depth=2, n_estimators=50 .................\n",
      "[CV]  learning_rate=0.1, max_depth=6, n_estimators=150, score=-0.037745763342022474, total= 3.7min\n",
      "[CV] learning_rate=0.2, max_depth=2, n_estimators=50 .................\n",
      "[CV]  learning_rate=0.01, max_depth=6, n_estimators=100, score=-0.5990731982119899, total=12.4min\n",
      "[CV] learning_rate=0.2, max_depth=2, n_estimators=50 .................\n",
      "[CV]  learning_rate=0.01, max_depth=6, n_estimators=100, score=-0.5981112771102295, total=12.4min\n",
      "[CV]  learning_rate=0.01, max_depth=4, n_estimators=150, score=-0.4077105363930033, total=12.4min\n",
      "[CV] learning_rate=0.2, max_depth=2, n_estimators=100 ................\n",
      "[CV]  learning_rate=0.01, max_depth=4, n_estimators=150, score=-0.4084345343960321, total=12.4min\n",
      "[CV] learning_rate=0.2, max_depth=2, n_estimators=100 ................\n",
      "[CV]  learning_rate=0.01, max_depth=6, n_estimators=100, score=-0.5987689420382234, total=12.4min\n",
      "[CV] learning_rate=0.2, max_depth=2, n_estimators=100 ................\n",
      "[CV] learning_rate=0.2, max_depth=2, n_estimators=100 ................\n",
      "[CV]  learning_rate=0.1, max_depth=6, n_estimators=50, score=-0.05598442671097005, total= 6.0min\n",
      "[CV] learning_rate=0.2, max_depth=2, n_estimators=100 ................\n",
      "[CV]  learning_rate=0.01, max_depth=4, n_estimators=150, score=-0.4092233922572825, total=12.4min\n",
      "[CV] learning_rate=0.2, max_depth=2, n_estimators=150 ................\n",
      "[CV]  learning_rate=0.01, max_depth=4, n_estimators=150, score=-0.40862507152462807, total=12.4min\n",
      "[CV] learning_rate=0.2, max_depth=2, n_estimators=150 ................\n",
      "[CV]  learning_rate=0.2, max_depth=2, n_estimators=50, score=-0.06974264976468268, total=  34.0s\n"
     ]
    },
    {
     "name": "stdout",
     "output_type": "stream",
     "text": [
      "[CV] learning_rate=0.2, max_depth=2, n_estimators=150 ................\n",
      "[CV]  learning_rate=0.2, max_depth=2, n_estimators=50, score=-0.06975330651196157, total=  35.1s\n",
      "[CV] learning_rate=0.2, max_depth=2, n_estimators=150 ................\n",
      "[CV]  learning_rate=0.2, max_depth=2, n_estimators=50, score=-0.0698790071900699, total= 1.3min\n",
      "[CV] learning_rate=0.2, max_depth=2, n_estimators=150 ................\n",
      "[CV]  learning_rate=0.1, max_depth=8, n_estimators=100, score=-0.037587366284817327, total= 3.2min\n",
      "[CV] learning_rate=0.2, max_depth=4, n_estimators=50 .................\n",
      "[CV]  learning_rate=0.1, max_depth=4, n_estimators=100, score=-0.046815835343160646, total= 7.6min\n",
      "[CV] learning_rate=0.2, max_depth=4, n_estimators=50 .................\n",
      "[CV]  learning_rate=0.1, max_depth=4, n_estimators=100, score=-0.04817948613190697, total= 7.6min\n",
      "[CV] learning_rate=0.2, max_depth=4, n_estimators=50 .................\n",
      "[CV]  learning_rate=0.1, max_depth=8, n_estimators=100, score=-0.0372567161479673, total= 3.2min\n",
      "[CV]  learning_rate=0.1, max_depth=4, n_estimators=100, score=-0.04704750944881236, total= 7.7min\n",
      "[CV] learning_rate=0.2, max_depth=4, n_estimators=50 .................\n",
      "[CV] learning_rate=0.2, max_depth=4, n_estimators=50 .................\n",
      "[CV]  learning_rate=0.1, max_depth=8, n_estimators=100, score=-0.03849244726000873, total= 3.2min\n",
      "[CV] learning_rate=0.2, max_depth=4, n_estimators=100 ................\n",
      "[CV]  learning_rate=0.1, max_depth=4, n_estimators=100, score=-0.04865360034160499, total= 7.7min\n",
      "[CV] learning_rate=0.2, max_depth=4, n_estimators=100 ................\n",
      "[CV]  learning_rate=0.1, max_depth=4, n_estimators=100, score=-0.04577910033084742, total= 7.8min\n",
      "[CV] learning_rate=0.2, max_depth=4, n_estimators=100 ................\n",
      "[CV]  learning_rate=0.1, max_depth=8, n_estimators=100, score=-0.03723850405445218, total= 3.2min\n",
      "[CV] learning_rate=0.2, max_depth=4, n_estimators=100 ................\n",
      "[CV]  learning_rate=0.2, max_depth=2, n_estimators=50, score=-0.0709057721146046, total= 2.1min\n",
      "[CV] learning_rate=0.2, max_depth=4, n_estimators=100 ................\n",
      "[CV]  learning_rate=0.2, max_depth=2, n_estimators=50, score=-0.07134320045319838, total= 2.1min\n",
      "[CV] learning_rate=0.2, max_depth=4, n_estimators=150 ................\n",
      "[CV]  learning_rate=0.2, max_depth=4, n_estimators=50, score=-0.046641449973100976, total=  54.2s\n",
      "[CV] learning_rate=0.2, max_depth=4, n_estimators=150 ................\n",
      "[CV]  learning_rate=0.2, max_depth=2, n_estimators=150, score=-0.04855785327035067, total= 1.5min\n",
      "[CV] learning_rate=0.2, max_depth=4, n_estimators=150 ................\n",
      "[CV]  learning_rate=0.2, max_depth=2, n_estimators=150, score=-0.046681132346221114, total= 1.6min\n",
      "[CV] learning_rate=0.2, max_depth=4, n_estimators=150 ................\n",
      "[CV]  learning_rate=0.2, max_depth=4, n_estimators=50, score=-0.04570295439288445, total=  53.0s\n",
      "[CV] learning_rate=0.2, max_depth=4, n_estimators=150 ................\n",
      "[CV]  learning_rate=0.2, max_depth=2, n_estimators=150, score=-0.049521750319289376, total= 1.6min\n",
      "[CV] learning_rate=0.2, max_depth=6, n_estimators=50 .................\n",
      "[CV]  learning_rate=0.1, max_depth=8, n_estimators=150, score=-0.036690836598300504, total= 4.7min\n",
      "[CV] learning_rate=0.2, max_depth=6, n_estimators=50 .................\n",
      "[CV]  learning_rate=0.2, max_depth=4, n_estimators=100, score=-0.04056312967438678, total= 1.8min\n",
      "[CV] learning_rate=0.2, max_depth=6, n_estimators=50 .................\n",
      "[CV]  learning_rate=0.1, max_depth=8, n_estimators=150, score=-0.037666224305593084, total= 4.7min\n",
      "[CV] learning_rate=0.2, max_depth=6, n_estimators=50 .................\n",
      "[CV]  learning_rate=0.2, max_depth=4, n_estimators=100, score=-0.03974854261301984, total= 1.8min\n",
      "[CV] learning_rate=0.2, max_depth=6, n_estimators=50 .................\n",
      "[CV]  learning_rate=0.1, max_depth=8, n_estimators=50, score=-0.05028510984620048, total= 7.7min\n",
      "[CV] learning_rate=0.2, max_depth=6, n_estimators=100 ................\n",
      "[CV]  learning_rate=0.1, max_depth=8, n_estimators=50, score=-0.05058806504646778, total= 7.8min\n",
      "[CV] learning_rate=0.2, max_depth=6, n_estimators=100 ................\n",
      "[CV]  learning_rate=0.2, max_depth=2, n_estimators=100, score=-0.05110196537557762, total= 4.1min\n",
      "[CV] learning_rate=0.2, max_depth=6, n_estimators=100 ................\n",
      "[CV]  learning_rate=0.2, max_depth=2, n_estimators=100, score=-0.051281248835764334, total= 4.2min\n",
      "[CV] learning_rate=0.2, max_depth=6, n_estimators=100 ................\n",
      "[CV]  learning_rate=0.2, max_depth=6, n_estimators=50, score=-0.04030711244333997, total= 1.3min\n",
      "[CV] learning_rate=0.2, max_depth=6, n_estimators=100 ................\n",
      "[CV]  learning_rate=0.2, max_depth=2, n_estimators=100, score=-0.051674301751005215, total= 4.2min\n",
      "[CV] learning_rate=0.2, max_depth=6, n_estimators=150 ................\n",
      "[CV]  learning_rate=0.2, max_depth=2, n_estimators=100, score=-0.05265874019381959, total= 4.3min\n",
      "[CV] learning_rate=0.2, max_depth=6, n_estimators=150 ................\n",
      "[CV]  learning_rate=0.2, max_depth=2, n_estimators=100, score=-0.05353884918243609, total= 4.3min\n",
      "[CV] learning_rate=0.2, max_depth=6, n_estimators=150 ................\n",
      "[CV]  learning_rate=0.1, max_depth=8, n_estimators=150, score=-0.036427419964701044, total= 4.7min\n",
      "[CV] learning_rate=0.2, max_depth=6, n_estimators=150 ................\n",
      "[CV]  learning_rate=0.2, max_depth=6, n_estimators=50, score=-0.041409162725117306, total= 1.2min\n",
      "[CV] learning_rate=0.2, max_depth=6, n_estimators=150 ................\n",
      "[CV]  learning_rate=0.2, max_depth=6, n_estimators=50, score=-0.039805763535427204, total= 1.2min\n",
      "[CV] learning_rate=0.2, max_depth=8, n_estimators=50 .................\n",
      "[CV]  learning_rate=0.2, max_depth=6, n_estimators=50, score=-0.03938272574743496, total= 1.2min\n",
      "[CV] learning_rate=0.2, max_depth=8, n_estimators=50 .................\n",
      "[CV]  learning_rate=0.2, max_depth=6, n_estimators=50, score=-0.04243303237761263, total= 1.2min\n",
      "[CV] learning_rate=0.2, max_depth=8, n_estimators=50 .................\n",
      "[CV]  learning_rate=0.2, max_depth=4, n_estimators=150, score=-0.04007616157279174, total= 2.7min\n",
      "[CV] learning_rate=0.2, max_depth=8, n_estimators=50 .................\n",
      "[CV]  learning_rate=0.2, max_depth=4, n_estimators=150, score=-0.03831255749452362, total= 2.7min\n",
      "[CV] learning_rate=0.2, max_depth=8, n_estimators=50 .................\n",
      "[CV]  learning_rate=0.2, max_depth=4, n_estimators=50, score=-0.046597350493999976, total= 3.8min\n",
      "[CV] learning_rate=0.2, max_depth=8, n_estimators=100 ................\n",
      "[CV]  learning_rate=0.2, max_depth=4, n_estimators=50, score=-0.04848509520602823, total= 3.9min\n",
      "[CV] learning_rate=0.2, max_depth=8, n_estimators=100 ................\n",
      "[CV]  learning_rate=0.2, max_depth=4, n_estimators=50, score=-0.0479451161307738, total= 3.9min\n",
      "[CV] learning_rate=0.2, max_depth=8, n_estimators=100 ................\n",
      "[CV]  learning_rate=0.01, max_depth=6, n_estimators=150, score=-0.3768454812096176, total=17.8min\n",
      "[CV] learning_rate=0.2, max_depth=8, n_estimators=100 ................\n",
      "[CV]  learning_rate=0.2, max_depth=4, n_estimators=150, score=-0.037847307441956496, total= 2.7min\n",
      "[CV] learning_rate=0.2, max_depth=8, n_estimators=100 ................\n",
      "[CV]  learning_rate=0.2, max_depth=4, n_estimators=150, score=-0.04119973798440007, total= 2.7min\n",
      "[CV] learning_rate=0.2, max_depth=8, n_estimators=150 ................\n",
      "[CV]  learning_rate=0.1, max_depth=4, n_estimators=150, score=-0.04287036747165173, total=11.6min\n",
      "[CV] learning_rate=0.2, max_depth=8, n_estimators=150 ................\n",
      "[CV]  learning_rate=0.01, max_depth=6, n_estimators=150, score=-0.3766999371045742, total=18.0min\n",
      "[CV] learning_rate=0.2, max_depth=8, n_estimators=150 ................\n",
      "[CV]  learning_rate=0.01, max_depth=6, n_estimators=150, score=-0.37667082430339077, total=18.0min\n",
      "[CV] learning_rate=0.2, max_depth=8, n_estimators=150 ................\n",
      "[CV]  learning_rate=0.1, max_depth=4, n_estimators=150, score=-0.04184010201255978, total=11.6min\n",
      "[CV] learning_rate=0.2, max_depth=8, n_estimators=150 ................\n",
      "[CV]  learning_rate=0.01, max_depth=6, n_estimators=150, score=-0.37707543456496795, total=18.2min\n",
      "[CV]  learning_rate=0.01, max_depth=8, n_estimators=100, score=-0.5870348364327931, total=16.3min\n"
     ]
    },
    {
     "name": "stdout",
     "output_type": "stream",
     "text": [
      "[CV]  learning_rate=0.01, max_depth=8, n_estimators=100, score=-0.5861010927590927, total=16.4min\n",
      "[CV]  learning_rate=0.2, max_depth=2, n_estimators=150, score=-0.047529082550718256, total= 5.9min\n",
      "[CV]  learning_rate=0.2, max_depth=2, n_estimators=150, score=-0.046839427237308245, total= 5.9min\n",
      "[CV]  learning_rate=0.1, max_depth=6, n_estimators=100, score=-0.03997776740828985, total=10.9min\n",
      "[CV]  learning_rate=0.1, max_depth=6, n_estimators=100, score=-0.039555669159715784, total=10.9min\n",
      "[CV]  learning_rate=0.2, max_depth=8, n_estimators=50, score=-0.03754299967385774, total= 1.5min\n",
      "[CV]  learning_rate=0.2, max_depth=8, n_estimators=50, score=-0.037134514686792804, total= 1.6min\n",
      "[CV]  learning_rate=0.2, max_depth=8, n_estimators=50, score=-0.038413307435716575, total= 1.6min\n",
      "[CV]  learning_rate=0.2, max_depth=8, n_estimators=50, score=-0.040230384644890795, total= 1.6min\n",
      "[CV]  learning_rate=0.2, max_depth=8, n_estimators=50, score=-0.03734698707732662, total= 1.6min\n",
      "[CV]  learning_rate=0.2, max_depth=6, n_estimators=100, score=-0.0400502997614422, total= 2.5min\n",
      "[CV]  learning_rate=0.2, max_depth=4, n_estimators=100, score=-0.040420432806314494, total= 6.7min\n",
      "[CV]  learning_rate=0.2, max_depth=4, n_estimators=100, score=-0.04203935864697067, total= 6.6min\n",
      "[CV]  learning_rate=0.2, max_depth=8, n_estimators=100, score=-0.03946705920747229, total= 2.9min\n",
      "[CV]  learning_rate=0.2, max_depth=4, n_estimators=100, score=-0.04292154864853117, total= 6.5min\n",
      "[CV]  learning_rate=0.2, max_depth=6, n_estimators=150, score=-0.036096549682113024, total= 3.7min\n"
     ]
    },
    {
     "name": "stderr",
     "output_type": "stream",
     "text": [
      "[Parallel(n_jobs=44)]: Done 154 out of 180 | elapsed: 21.9min remaining:  3.7min\n"
     ]
    },
    {
     "name": "stdout",
     "output_type": "stream",
     "text": [
      "[CV]  learning_rate=0.2, max_depth=6, n_estimators=150, score=-0.03964099041013442, total= 3.6min\n",
      "[CV]  learning_rate=0.2, max_depth=8, n_estimators=150, score=-0.036332303906923824, total= 4.4min\n",
      "[CV]  learning_rate=0.1, max_depth=6, n_estimators=150, score=-0.038151811656094124, total=14.6min\n",
      "[CV]  learning_rate=0.1, max_depth=6, n_estimators=150, score=-0.040901827255548875, total=14.4min\n",
      "[CV]  learning_rate=0.1, max_depth=8, n_estimators=100, score=-0.04028258329830756, total=12.2min\n",
      "[CV]  learning_rate=0.01, max_depth=8, n_estimators=150, score=-0.36497317682371566, total=21.3min\n",
      "[CV]  learning_rate=0.2, max_depth=4, n_estimators=150, score=-0.03865244919885858, total= 8.5min\n",
      "[CV]  learning_rate=0.01, max_depth=8, n_estimators=150, score=-0.36418995221015804, total=21.2min\n",
      "[CV]  learning_rate=0.01, max_depth=8, n_estimators=150, score=-0.36490031051139415, total=21.3min\n",
      "[CV]  learning_rate=0.2, max_depth=6, n_estimators=100, score=-0.037486271122052876, total= 7.2min\n",
      "[CV]  learning_rate=0.2, max_depth=6, n_estimators=100, score=-0.037101878118448076, total= 7.2min\n",
      "[CV]  learning_rate=0.2, max_depth=6, n_estimators=100, score=-0.03665504089354528, total= 6.9min\n",
      "[CV]  learning_rate=0.2, max_depth=6, n_estimators=100, score=-0.03853690385467824, total= 7.1min\n",
      "[CV]  learning_rate=0.2, max_depth=8, n_estimators=100, score=-0.03627332588327021, total= 7.0min\n",
      "[CV]  learning_rate=0.2, max_depth=8, n_estimators=100, score=-0.03608337727096408, total= 7.0min\n",
      "[CV]  learning_rate=0.2, max_depth=8, n_estimators=100, score=-0.03740140590533373, total= 7.0min\n",
      "[CV]  learning_rate=0.2, max_depth=8, n_estimators=100, score=-0.03624155811795624, total= 7.0min\n",
      "[CV]  learning_rate=0.1, max_depth=8, n_estimators=150, score=-0.03647499204430496, total=14.2min\n",
      "[CV]  learning_rate=0.1, max_depth=8, n_estimators=150, score=-0.03952534966401102, total=13.1min\n",
      "[CV]  learning_rate=0.2, max_depth=6, n_estimators=150, score=-0.03636811295511646, total= 8.3min\n",
      "[CV]  learning_rate=0.2, max_depth=6, n_estimators=150, score=-0.03660433189737895, total= 8.4min\n",
      "[CV]  learning_rate=0.2, max_depth=6, n_estimators=150, score=-0.03755000158612675, total= 8.3min\n",
      "[CV]  learning_rate=0.2, max_depth=8, n_estimators=150, score=-0.03611163209297951, total= 8.3min\n",
      "[CV]  learning_rate=0.2, max_depth=8, n_estimators=150, score=-0.03652100874646253, total= 8.3min\n",
      "[CV]  learning_rate=0.2, max_depth=8, n_estimators=150, score=-0.03980016603609729, total= 8.3min\n",
      "[CV]  learning_rate=0.2, max_depth=8, n_estimators=150, score=-0.03743113904430021, total= 8.4min\n"
     ]
    },
    {
     "name": "stderr",
     "output_type": "stream",
     "text": [
      "[Parallel(n_jobs=44)]: Done 180 out of 180 | elapsed: 27.7min finished\n"
     ]
    },
    {
     "name": "stdout",
     "output_type": "stream",
     "text": [
      "CPU times: user 3min 29s, sys: 3.83 s, total: 3min 33s\n",
      "Wall time: 30min 51s\n"
     ]
    }
   ],
   "source": [
    "from sklearn.model_selection import GridSearchCV\n",
    "from sklearn.model_selection import StratifiedKFold\n",
    "\n",
    "gbc = XGBClassifier()\n",
    "learning_rate = [0.01, 0.1, 0.2]\n",
    "n_estimators = [50, 100, 150]\n",
    "max_depth = [2, 4, 6, 8]\n",
    "param_grid = dict(max_depth=max_depth, n_estimators=n_estimators,\n",
    "                  learning_rate=learning_rate)\n",
    "kfold = StratifiedKFold(n_splits=5, shuffle=True)\n",
    "grid_search = GridSearchCV(gbc, param_grid, scoring='neg_log_loss',\n",
    "                           n_jobs=44, cv=kfold, verbose=3)\n",
    "%time grid_result = grid_search.fit(X_train, y_train)"
   ]
  },
  {
   "cell_type": "code",
   "execution_count": 16,
   "metadata": {},
   "outputs": [
    {
     "name": "stdout",
     "output_type": "stream",
     "text": [
      "Best -0.037093321792810684 using {'learning_rate': 0.2, 'max_depth': 8, 'n_estimators': 100}\n"
     ]
    }
   ],
   "source": [
    "# Summary\n",
    "print('Best {} using {}'.format(grid_result.best_score_, grid_result.best_params_))"
   ]
  },
  {
   "cell_type": "code",
   "execution_count": 18,
   "metadata": {},
   "outputs": [
    {
     "name": "stdout",
     "output_type": "stream",
     "text": [
      "-1.166 (+/-0.000) for {'learning_rate': 0.01, 'max_depth': 2, 'n_estimators': 50}\n",
      "-0.797 (+/-0.001) for {'learning_rate': 0.01, 'max_depth': 2, 'n_estimators': 100}\n",
      "-0.569 (+/-0.000) for {'learning_rate': 0.01, 'max_depth': 2, 'n_estimators': 150}\n",
      "-1.029 (+/-0.000) for {'learning_rate': 0.01, 'max_depth': 4, 'n_estimators': 50}\n",
      "-0.629 (+/-0.001) for {'learning_rate': 0.01, 'max_depth': 4, 'n_estimators': 100}\n",
      "-0.409 (+/-0.001) for {'learning_rate': 0.01, 'max_depth': 4, 'n_estimators': 150}\n",
      "-1.000 (+/-0.000) for {'learning_rate': 0.01, 'max_depth': 6, 'n_estimators': 50}\n",
      "-0.599 (+/-0.001) for {'learning_rate': 0.01, 'max_depth': 6, 'n_estimators': 100}\n",
      "-0.377 (+/-0.001) for {'learning_rate': 0.01, 'max_depth': 6, 'n_estimators': 150}\n",
      "-0.991 (+/-0.000) for {'learning_rate': 0.01, 'max_depth': 8, 'n_estimators': 50}\n",
      "-0.586 (+/-0.001) for {'learning_rate': 0.01, 'max_depth': 8, 'n_estimators': 100}\n",
      "-0.365 (+/-0.001) for {'learning_rate': 0.01, 'max_depth': 8, 'n_estimators': 150}\n",
      "-0.137 (+/-0.001) for {'learning_rate': 0.1, 'max_depth': 2, 'n_estimators': 50}\n",
      "-0.071 (+/-0.001) for {'learning_rate': 0.1, 'max_depth': 2, 'n_estimators': 100}\n",
      "-0.057 (+/-0.002) for {'learning_rate': 0.1, 'max_depth': 2, 'n_estimators': 150}\n",
      "-0.071 (+/-0.001) for {'learning_rate': 0.1, 'max_depth': 4, 'n_estimators': 50}\n",
      "-0.047 (+/-0.002) for {'learning_rate': 0.1, 'max_depth': 4, 'n_estimators': 100}\n",
      "-0.043 (+/-0.002) for {'learning_rate': 0.1, 'max_depth': 4, 'n_estimators': 150}\n",
      "-0.057 (+/-0.002) for {'learning_rate': 0.1, 'max_depth': 6, 'n_estimators': 50}\n",
      "-0.041 (+/-0.002) for {'learning_rate': 0.1, 'max_depth': 6, 'n_estimators': 100}\n",
      "-0.039 (+/-0.002) for {'learning_rate': 0.1, 'max_depth': 6, 'n_estimators': 150}\n",
      "-0.051 (+/-0.002) for {'learning_rate': 0.1, 'max_depth': 8, 'n_estimators': 50}\n",
      "-0.038 (+/-0.002) for {'learning_rate': 0.1, 'max_depth': 8, 'n_estimators': 100}\n",
      "-0.037 (+/-0.002) for {'learning_rate': 0.1, 'max_depth': 8, 'n_estimators': 150}\n",
      "-0.070 (+/-0.001) for {'learning_rate': 0.2, 'max_depth': 2, 'n_estimators': 50}\n",
      "-0.052 (+/-0.002) for {'learning_rate': 0.2, 'max_depth': 2, 'n_estimators': 100}\n",
      "-0.048 (+/-0.002) for {'learning_rate': 0.2, 'max_depth': 2, 'n_estimators': 150}\n",
      "-0.047 (+/-0.002) for {'learning_rate': 0.2, 'max_depth': 4, 'n_estimators': 50}\n",
      "-0.041 (+/-0.002) for {'learning_rate': 0.2, 'max_depth': 4, 'n_estimators': 100}\n",
      "-0.039 (+/-0.002) for {'learning_rate': 0.2, 'max_depth': 4, 'n_estimators': 150}\n",
      "-0.041 (+/-0.002) for {'learning_rate': 0.2, 'max_depth': 6, 'n_estimators': 50}\n",
      "-0.038 (+/-0.002) for {'learning_rate': 0.2, 'max_depth': 6, 'n_estimators': 100}\n",
      "-0.037 (+/-0.003) for {'learning_rate': 0.2, 'max_depth': 6, 'n_estimators': 150}\n",
      "-0.038 (+/-0.002) for {'learning_rate': 0.2, 'max_depth': 8, 'n_estimators': 50}\n",
      "-0.037 (+/-0.003) for {'learning_rate': 0.2, 'max_depth': 8, 'n_estimators': 100}\n",
      "-0.037 (+/-0.003) for {'learning_rate': 0.2, 'max_depth': 8, 'n_estimators': 150}\n"
     ]
    }
   ],
   "source": [
    "means = grid_result.cv_results_['mean_test_score']\n",
    "stds = grid_result.cv_results_['std_test_score']\n",
    "params = grid_result.cv_results_['params']\n",
    "for mean, std, params in zip(means, stds, grid_result.cv_results_['params']):\n",
    "        print(\"%0.3f (+/-%0.03f) for %r\"\n",
    "              % (mean, std * 2, params))"
   ]
  },
  {
   "cell_type": "markdown",
   "metadata": {},
   "source": [
    "Train model with best parameters"
   ]
  },
  {
   "cell_type": "code",
   "execution_count": 20,
   "metadata": {},
   "outputs": [
    {
     "name": "stdout",
     "output_type": "stream",
     "text": [
      "CPU times: user 3min 11s, sys: 124 ms, total: 3min 11s\n",
      "Wall time: 3min 12s\n"
     ]
    },
    {
     "data": {
      "text/plain": [
       "XGBClassifier(base_score=0.5, booster='gbtree', colsample_bylevel=1,\n",
       "       colsample_bytree=1, gamma=0, learning_rate=0.2, max_delta_step=0,\n",
       "       max_depth=8, min_child_weight=1, missing=None, n_estimators=100,\n",
       "       n_jobs=1, nthread=None, objective='multi:softprob', random_state=0,\n",
       "       reg_alpha=0, reg_lambda=1, scale_pos_weight=1, seed=None,\n",
       "       silent=True, subsample=1)"
      ]
     },
     "execution_count": 20,
     "metadata": {},
     "output_type": "execute_result"
    }
   ],
   "source": [
    "gbc = XGBClassifier(max_depth=8, n_estimators=100, learning_rate=0.2)\n",
    "%time gbc.fit(X_train, y_train)"
   ]
  },
  {
   "cell_type": "code",
   "execution_count": 21,
   "metadata": {
    "scrolled": true
   },
   "outputs": [
    {
     "name": "stderr",
     "output_type": "stream",
     "text": [
      "/home/hoanghiep/miniconda3/lib/python3.6/site-packages/sklearn/preprocessing/label.py:151: DeprecationWarning: The truth value of an empty array is ambiguous. Returning False, but in future this will result in an error. Use `array.size > 0` to check that an array is not empty.\n",
      "  if diff:\n"
     ]
    },
    {
     "name": "stdout",
     "output_type": "stream",
     "text": [
      "Accuracy: 98.85%\n"
     ]
    }
   ],
   "source": [
    "y_pred = gbc.predict(X_test)\n",
    "accuracy = accuracy_score(y_pred, y_test)\n",
    "print(\"Accuracy: %.2f%%\" % (accuracy * 100.0))"
   ]
  },
  {
   "cell_type": "code",
   "execution_count": 23,
   "metadata": {},
   "outputs": [
    {
     "data": {
      "text/plain": [
       "['/home/ducna/share/Classifier/region/gbc.sav']"
      ]
     },
     "execution_count": 23,
     "metadata": {},
     "output_type": "execute_result"
    }
   ],
   "source": [
    "# Save model\n",
    "from sklearn.externals import joblib\n",
    "\n",
    "joblib.dump(gbc, '/home/ducna/share/Classifier/region/gbc.sav')"
   ]
  },
  {
   "cell_type": "code",
   "execution_count": null,
   "metadata": {},
   "outputs": [],
   "source": []
  }
 ],
 "metadata": {
  "kernelspec": {
   "display_name": "Python 3",
   "language": "python",
   "name": "python3"
  },
  "language_info": {
   "codemirror_mode": {
    "name": "ipython",
    "version": 3
   },
   "file_extension": ".py",
   "mimetype": "text/x-python",
   "name": "python",
   "nbconvert_exporter": "python",
   "pygments_lexer": "ipython3",
   "version": "3.6.4"
  }
 },
 "nbformat": 4,
 "nbformat_minor": 2
}
